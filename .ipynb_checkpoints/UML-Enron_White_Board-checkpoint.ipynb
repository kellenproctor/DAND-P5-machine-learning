{
 "cells": [
  {
   "cell_type": "markdown",
   "metadata": {},
   "source": [
    "# P5: Identify Fraud from Enron Email\n",
    "### Worksheet"
   ]
  },
  {
   "cell_type": "markdown",
   "metadata": {},
   "source": [
    "I used this as a sort of ongoing analysis and testing ground for the data and classifiers. Most of my work is here, and the poi_id.py submission contains the final - and clean - code to actually complete the project."
   ]
  },
  {
   "cell_type": "code",
   "execution_count": 1,
   "metadata": {
    "collapsed": true
   },
   "outputs": [],
   "source": [
    "import sys\n",
    "import pickle\n",
    "sys.path.append(\"../tools/\")\n",
    "%matplotlib inline\n",
    "import matplotlib.pyplot as plt\n",
    "import seaborn as sns\n",
    "\n",
    "from feature_format import featureFormat, targetFeatureSplit"
   ]
  },
  {
   "cell_type": "code",
   "execution_count": 2,
   "metadata": {
    "collapsed": true
   },
   "outputs": [],
   "source": [
    "### Task 1: Select what features you'll use.\n",
    "### features_list is a list of strings, each of which is a feature name.\n",
    "### The first feature must be \"poi\".\n",
    "features_list = ['poi',\n",
    "    'salary',\n",
    "    'bonus',\n",
    "    'long_term_incentive',\n",
    "    'deferred_income',\n",
    "    'deferral_payments',\n",
    "    'loan_advances',\n",
    "    'other',\n",
    "    'expenses',\n",
    "    'director_fees',\n",
    "    'total_payments',\n",
    "\n",
    "    'exercised_stock_options',\n",
    "    'restricted_stock',\n",
    "    'restricted_stock_deferred',\n",
    "    'total_stock_value',\n",
    "\n",
    "    'from_this_person_to_poi',\n",
    "    'to_messages',\n",
    "    'from_poi_to_this_person',\n",
    "    'from_messages',\n",
    "    'shared_receipt_with_poi',\n",
    "\n",
    "    # Email related fractional features\n",
    "    'to_poi_fraction',\n",
    "    'from_poi_fraction',\n",
    "\n",
    "    # Payment related fractional features\n",
    "    'salary_fraction',\n",
    "    'bonus_fraction',\n",
    "    'long_term_incentive_fraction',\n",
    "    'deferred_income_fraction',\n",
    "    'deferral_payments_fraction',\n",
    "    'loan_advances_fraction',\n",
    "    'other_fraction',\n",
    "    'expenses_fraction',\n",
    "    'director_fees_fraction',\n",
    "\n",
    "    # Stock related fractional features\n",
    "    'exercised_stock_options_fraction',\n",
    "    'restricted_stock_fraction',\n",
    "    'restricted_stock_deferred_fraction']"
   ]
  },
  {
   "cell_type": "code",
   "execution_count": 3,
   "metadata": {
    "collapsed": false
   },
   "outputs": [],
   "source": [
    "### Load the dictionary containing the dataset\n",
    "with open(\"final_project_dataset.pkl\", \"r\") as data_file:\n",
    "    data_dict = pickle.load(data_file)"
   ]
  },
  {
   "cell_type": "code",
   "execution_count": 4,
   "metadata": {
    "collapsed": false
   },
   "outputs": [
    {
     "data": {
      "text/plain": [
       "['METTS MARK',\n",
       " 'BAXTER JOHN C',\n",
       " 'ELLIOTT STEVEN',\n",
       " 'CORDES WILLIAM R',\n",
       " 'HANNON KEVIN P',\n",
       " 'MORDAUNT KRISTINA M',\n",
       " 'MEYER ROCKFORD G',\n",
       " 'MCMAHON JEFFREY',\n",
       " 'HORTON STANLEY C',\n",
       " 'PIPER GREGORY F',\n",
       " 'HUMPHREY GENE E',\n",
       " 'UMANOFF ADAM S',\n",
       " 'BLACHMAN JEREMY M',\n",
       " 'SUNDE MARTIN',\n",
       " 'GIBBS DANA R',\n",
       " 'LOWRY CHARLES P',\n",
       " 'COLWELL WESLEY',\n",
       " 'MULLER MARK S',\n",
       " 'JACKSON CHARLENE R',\n",
       " 'WESTFAHL RICHARD K',\n",
       " 'WALTERS GARETH W',\n",
       " 'WALLS JR ROBERT H',\n",
       " 'KITCHEN LOUISE',\n",
       " 'CHAN RONNIE',\n",
       " 'BELFER ROBERT',\n",
       " 'SHANKMAN JEFFREY A',\n",
       " 'WODRASKA JOHN',\n",
       " 'BERGSIEKER RICHARD P',\n",
       " 'URQUHART JOHN A',\n",
       " 'BIBI PHILIPPE A',\n",
       " 'RIEKER PAULA H',\n",
       " 'WHALEY DAVID A',\n",
       " 'BECK SALLY W',\n",
       " 'HAUG DAVID L',\n",
       " 'ECHOLS JOHN B',\n",
       " 'MENDELSOHN JOHN',\n",
       " 'HICKERSON GARY J',\n",
       " 'CLINE KENNETH W',\n",
       " 'LEWIS RICHARD',\n",
       " 'HAYES ROBERT E',\n",
       " 'MCCARTY DANNY J',\n",
       " 'KOPPER MICHAEL J',\n",
       " 'LEFF DANIEL P',\n",
       " 'LAVORATO JOHN J',\n",
       " 'BERBERIAN DAVID',\n",
       " 'DETMERING TIMOTHY J',\n",
       " 'WAKEHAM JOHN',\n",
       " 'POWERS WILLIAM',\n",
       " 'GOLD JOSEPH',\n",
       " 'BANNANTINE JAMES M',\n",
       " 'DUNCAN JOHN H',\n",
       " 'SHAPIRO RICHARD S',\n",
       " 'SHERRIFF JOHN R',\n",
       " 'SHELBY REX',\n",
       " 'LEMAISTRE CHARLES',\n",
       " 'DEFFNER JOSEPH M',\n",
       " 'KISHKILL JOSEPH G',\n",
       " 'WHALLEY LAWRENCE G',\n",
       " 'MCCONNELL MICHAEL S',\n",
       " 'PIRO JIM',\n",
       " 'DELAINEY DAVID W',\n",
       " 'SULLIVAN-SHAKLOVITZ COLLEEN',\n",
       " 'WROBEL BRUCE',\n",
       " 'LINDHOLM TOD A',\n",
       " 'MEYER JEROME J',\n",
       " 'LAY KENNETH L',\n",
       " 'BUTTS ROBERT H',\n",
       " 'OLSON CINDY K',\n",
       " 'MCDONALD REBECCA',\n",
       " 'CUMBERLAND MICHAEL S',\n",
       " 'GAHN ROBERT S',\n",
       " 'MCCLELLAN GEORGE',\n",
       " 'HERMANN ROBERT J',\n",
       " 'SCRIMSHAW MATTHEW',\n",
       " 'GATHMANN WILLIAM D',\n",
       " 'HAEDICKE MARK E',\n",
       " 'BOWEN JR RAYMOND M',\n",
       " 'GILLIS JOHN',\n",
       " 'FITZGERALD JAY L',\n",
       " 'MORAN MICHAEL P',\n",
       " 'REDMOND BRIAN L',\n",
       " 'BAZELIDES PHILIP J',\n",
       " 'BELDEN TIMOTHY N',\n",
       " 'DURAN WILLIAM D',\n",
       " 'THORN TERENCE H',\n",
       " 'FASTOW ANDREW S',\n",
       " 'FOY JOE',\n",
       " 'CALGER CHRISTOPHER F',\n",
       " 'RICE KENNETH D',\n",
       " 'KAMINSKI WINCENTY J',\n",
       " 'LOCKHART EUGENE E',\n",
       " 'COX DAVID',\n",
       " 'OVERDYKE JR JERE C',\n",
       " 'PEREIRA PAULO V. FERRAZ',\n",
       " 'STABLER FRANK',\n",
       " 'SKILLING JEFFREY K',\n",
       " 'BLAKE JR. NORMAN P',\n",
       " 'SHERRICK JEFFREY B',\n",
       " 'PRENTICE JAMES',\n",
       " 'GRAY RODNEY',\n",
       " 'PICKERING MARK R',\n",
       " 'THE TRAVEL AGENCY IN THE PARK',\n",
       " 'NOLES JAMES L',\n",
       " 'KEAN STEVEN J',\n",
       " 'TOTAL',\n",
       " 'FOWLER PEGGY',\n",
       " 'WASAFF GEORGE',\n",
       " 'WHITE JR THOMAS E',\n",
       " 'CHRISTODOULOU DIOMEDES',\n",
       " 'ALLEN PHILLIP K',\n",
       " 'SHARP VICTORIA T',\n",
       " 'JAEDICKE ROBERT',\n",
       " 'WINOKUR JR. HERBERT S',\n",
       " 'BROWN MICHAEL',\n",
       " 'BADUM JAMES P',\n",
       " 'HUGHES JAMES A',\n",
       " 'REYNOLDS LAWRENCE',\n",
       " 'DIMICHELE RICHARD G',\n",
       " 'BHATNAGAR SANJAY',\n",
       " 'CARTER REBECCA C',\n",
       " 'BUCHANAN HAROLD G',\n",
       " 'YEAP SOON',\n",
       " 'MURRAY JULIA H',\n",
       " 'GARLAND C KEVIN',\n",
       " 'DODSON KEITH',\n",
       " 'YEAGER F SCOTT',\n",
       " 'HIRKO JOSEPH',\n",
       " 'DIETRICH JANET R',\n",
       " 'DERRICK JR. JAMES V',\n",
       " 'FREVERT MARK A',\n",
       " 'PAI LOU L',\n",
       " 'BAY FRANKLIN R',\n",
       " 'HAYSLETT RODERICK J',\n",
       " 'FUGH JOHN L',\n",
       " 'FALLON JAMES B',\n",
       " 'KOENIG MARK E',\n",
       " 'SAVAGE FRANK',\n",
       " 'IZZO LAWRENCE L',\n",
       " 'TILNEY ELIZABETH A',\n",
       " 'MARTIN AMANDA K',\n",
       " 'BUY RICHARD B',\n",
       " 'GRAMM WENDY L',\n",
       " 'CAUSEY RICHARD A',\n",
       " 'TAYLOR MITCHELL S',\n",
       " 'DONAHUE JR JEFFREY M',\n",
       " 'GLISAN JR BEN F']"
      ]
     },
     "execution_count": 4,
     "metadata": {},
     "output_type": "execute_result"
    }
   ],
   "source": [
    "data_dict.keys()"
   ]
  },
  {
   "cell_type": "code",
   "execution_count": 5,
   "metadata": {
    "collapsed": false
   },
   "outputs": [],
   "source": [
    "### Task 2: Remove outliers\n",
    "# On first pass, I'm going to remove 'TOTAL' and 'THE TRAVEL AGENCY IN THE PARK', since they're clearly not people\n",
    "del data_dict[\"TOTAL\"]\n",
    "del data_dict[\"THE TRAVEL AGENCY IN THE PARK\"]"
   ]
  },
  {
   "cell_type": "code",
   "execution_count": 6,
   "metadata": {
    "collapsed": false
   },
   "outputs": [],
   "source": [
    "### Task 3: Create new feature(s)\n",
    "\n",
    "# Create features list for easy creation of new features\n",
    "payment_features = ['salary', 'bonus', 'long_term_incentive', 'deferred_income',\n",
    "    'deferral_payments', 'loan_advances', 'other', 'expenses', 'director_fees']\n",
    "\n",
    "stock_features = ['exercised_stock_options', 'restricted_stock',\n",
    "    'restricted_stock_deferred']\n",
    "\n",
    "for p in data_dict:\n",
    "    # Create fractional value of emails to POIs\n",
    "    if data_dict[p]['from_this_person_to_poi'] == \"NaN\" or \\\n",
    "    data_dict[p]['from_messages'] == \"NaN\":\n",
    "        data_dict[p]['to_poi_fraction'] = \"NaN\"\n",
    "    else:\n",
    "        data_dict[p]['to_poi_fraction'] = \\\n",
    "        data_dict[p]['from_this_person_to_poi'] / \\\n",
    "        float(data_dict[p]['from_messages'])\n",
    "\n",
    "    # Create fractional value of emails from POIs\n",
    "    if data_dict[p]['from_poi_to_this_person'] == \"NaN\" or \\\n",
    "    data_dict[p]['to_messages'] == \"NaN\":\n",
    "        data_dict[p]['from_poi_fraction'] = \"NaN\"\n",
    "    else:\n",
    "        data_dict[p]['from_poi_fraction'] = \\\n",
    "        data_dict[p]['from_poi_to_this_person'] / \\\n",
    "        float(data_dict[p]['to_messages'])\n",
    "\n",
    "    for pay in payment_features:\n",
    "        if data_dict[p][pay] == \"NaN\" or data_dict[p]['total_payments'] == \"NaN\":\n",
    "            data_dict[p][pay + \"_fraction\"] = \"NaN\"\n",
    "        else:\n",
    "            data_dict[p][pay + \"_fraction\"] = float(data_dict[p][pay]) / \\\n",
    "            data_dict[p]['total_payments']\n",
    "\n",
    "    for stock in stock_features:\n",
    "        if data_dict[p][stock] == \"NaN\" or \\\n",
    "        data_dict[p]['total_stock_value'] == \"NaN\":\n",
    "            data_dict[p][stock + \"_fraction\"] = \"NaN\"\n",
    "        else:\n",
    "            data_dict[p][stock + \"_fraction\"] = float(data_dict[p][stock]) / \\\n",
    "            data_dict[p]['total_stock_value']\n",
    "            "
   ]
  },
  {
   "cell_type": "code",
   "execution_count": 7,
   "metadata": {
    "collapsed": false
   },
   "outputs": [],
   "source": [
    "# Feature exploration, creating dicts with total NaN values for features and persons\n",
    "# The goal is to try to find features or persons that lack data, so I can remove them as a potential\n",
    "# outlier (persons) or not use that feature (feature selection).\n",
    "\n",
    "feature_list = {feature:{'NaN':0} for feature in features_list}\n",
    "person_list = {person:{'NaN':0} for person in data_dict}\n",
    "total_features = len(features_list)"
   ]
  },
  {
   "cell_type": "code",
   "execution_count": 8,
   "metadata": {
    "collapsed": false
   },
   "outputs": [],
   "source": [
    "# increment NaN counters for the respective dicts\n",
    "for person in data_dict:\n",
    "    for feature in features_list:\n",
    "        if data_dict[person][feature] == 'NaN':\n",
    "            feature_list[feature]['NaN'] += 1\n",
    "            person_list[person]['NaN'] += 1"
   ]
  },
  {
   "cell_type": "code",
   "execution_count": 9,
   "metadata": {
    "collapsed": false
   },
   "outputs": [],
   "source": [
    "# find the ratio of NaN to actual values\n",
    "for feature in feature_list:\n",
    "    feature_list[feature]['ratio'] = feature_list[feature]['NaN']/float(len(data_dict))\n",
    "    \n",
    "for person in person_list:\n",
    "    person_list[person]['ratio'] = person_list[person]['NaN']/float(total_features)"
   ]
  },
  {
   "cell_type": "code",
   "execution_count": 10,
   "metadata": {
    "collapsed": false
   },
   "outputs": [
    {
     "name": "stdout",
     "output_type": "stream",
     "text": [
      "34\n"
     ]
    },
    {
     "data": {
      "text/plain": [
       "[('LOCKHART EUGENE E', {'NaN': 33, 'ratio': 0.9705882352941176}),\n",
       " ('WODRASKA JOHN', {'NaN': 30, 'ratio': 0.8823529411764706}),\n",
       " ('WHALEY DAVID A', {'NaN': 30, 'ratio': 0.8823529411764706}),\n",
       " ('WROBEL BRUCE', {'NaN': 30, 'ratio': 0.8823529411764706}),\n",
       " ('SCRIMSHAW MATTHEW', {'NaN': 30, 'ratio': 0.8823529411764706}),\n",
       " ('GRAMM WENDY L', {'NaN': 30, 'ratio': 0.8823529411764706}),\n",
       " ('CHAN RONNIE', {'NaN': 29, 'ratio': 0.8529411764705882}),\n",
       " ('CLINE KENNETH W', {'NaN': 28, 'ratio': 0.8235294117647058}),\n",
       " ('WAKEHAM JOHN', {'NaN': 28, 'ratio': 0.8235294117647058}),\n",
       " ('GILLIS JOHN', {'NaN': 28, 'ratio': 0.8235294117647058}),\n",
       " ('CHRISTODOULOU DIOMEDES', {'NaN': 28, 'ratio': 0.8235294117647058}),\n",
       " ('SAVAGE FRANK', {'NaN': 28, 'ratio': 0.8235294117647058}),\n",
       " ('YEAP SOON', {'NaN': 27, 'ratio': 0.7941176470588235}),\n",
       " ('FUGH JOHN L', {'NaN': 27, 'ratio': 0.7941176470588235}),\n",
       " ('LOWRY CHARLES P', {'NaN': 26, 'ratio': 0.7647058823529411}),\n",
       " ('URQUHART JOHN A', {'NaN': 26, 'ratio': 0.7647058823529411}),\n",
       " ('MENDELSOHN JOHN', {'NaN': 26, 'ratio': 0.7647058823529411}),\n",
       " ('MEYER JEROME J', {'NaN': 26, 'ratio': 0.7647058823529411}),\n",
       " ('GATHMANN WILLIAM D', {'NaN': 26, 'ratio': 0.7647058823529411}),\n",
       " ('PEREIRA PAULO V. FERRAZ', {'NaN': 26, 'ratio': 0.7647058823529411}),\n",
       " ('BLAKE JR. NORMAN P', {'NaN': 26, 'ratio': 0.7647058823529411}),\n",
       " ('WINOKUR JR. HERBERT S', {'NaN': 26, 'ratio': 0.7647058823529411}),\n",
       " ('NOLES JAMES L', {'NaN': 25, 'ratio': 0.7352941176470589}),\n",
       " ('WALTERS GARETH W', {'NaN': 25, 'ratio': 0.7352941176470589}),\n",
       " ('DUNCAN JOHN H', {'NaN': 25, 'ratio': 0.7352941176470589}),\n",
       " ('LEMAISTRE CHARLES', {'NaN': 25, 'ratio': 0.7352941176470589}),\n",
       " ('BADUM JAMES P', {'NaN': 25, 'ratio': 0.7352941176470589}),\n",
       " ('PRENTICE JAMES', {'NaN': 25, 'ratio': 0.7352941176470589}),\n",
       " ('POWERS WILLIAM', {'NaN': 24, 'ratio': 0.7058823529411765}),\n",
       " ('GRAY RODNEY', {'NaN': 24, 'ratio': 0.7058823529411765}),\n",
       " ('BELFER ROBERT', {'NaN': 23, 'ratio': 0.6764705882352942}),\n",
       " ('LEWIS RICHARD', {'NaN': 23, 'ratio': 0.6764705882352942}),\n",
       " ('BERBERIAN DAVID', {'NaN': 23, 'ratio': 0.6764705882352942}),\n",
       " ('PIRO JIM', {'NaN': 23, 'ratio': 0.6764705882352942}),\n",
       " ('BROWN MICHAEL', {'NaN': 23, 'ratio': 0.6764705882352942}),\n",
       " ('HIRKO JOSEPH', {'NaN': 23, 'ratio': 0.6764705882352942}),\n",
       " ('HAYSLETT RODERICK J', {'NaN': 23, 'ratio': 0.6764705882352942}),\n",
       " ('CORDES WILLIAM R', {'NaN': 21, 'ratio': 0.6176470588235294}),\n",
       " ('MORDAUNT KRISTINA M', {'NaN': 21, 'ratio': 0.6176470588235294}),\n",
       " ('KISHKILL JOSEPH G', {'NaN': 21, 'ratio': 0.6176470588235294}),\n",
       " ('MCDONALD REBECCA', {'NaN': 21, 'ratio': 0.6176470588235294}),\n",
       " ('MORAN MICHAEL P', {'NaN': 21, 'ratio': 0.6176470588235294}),\n",
       " ('BAZELIDES PHILIP J', {'NaN': 21, 'ratio': 0.6176470588235294}),\n",
       " ('STABLER FRANK', {'NaN': 21, 'ratio': 0.6176470588235294}),\n",
       " ('SHERRICK JEFFREY B', {'NaN': 21, 'ratio': 0.6176470588235294}),\n",
       " ('FOWLER PEGGY', {'NaN': 21, 'ratio': 0.6176470588235294}),\n",
       " ('JAEDICKE ROBERT', {'NaN': 21, 'ratio': 0.6176470588235294}),\n",
       " ('HUGHES JAMES A', {'NaN': 21, 'ratio': 0.6176470588235294}),\n",
       " ('YEAGER F SCOTT', {'NaN': 21, 'ratio': 0.6176470588235294}),\n",
       " ('MCCARTY DANNY J', {'NaN': 21, 'ratio': 0.6176470588235294}),\n",
       " ('HAUG DAVID L', {'NaN': 20, 'ratio': 0.5882352941176471}),\n",
       " ('HAYES ROBERT E', {'NaN': 20, 'ratio': 0.5882352941176471}),\n",
       " ('FOY JOE', {'NaN': 20, 'ratio': 0.5882352941176471}),\n",
       " ('WESTFAHL RICHARD K', {'NaN': 19, 'ratio': 0.5588235294117647}),\n",
       " ('KOPPER MICHAEL J', {'NaN': 19, 'ratio': 0.5588235294117647}),\n",
       " ('GOLD JOSEPH', {'NaN': 19, 'ratio': 0.5588235294117647}),\n",
       " ('SULLIVAN-SHAKLOVITZ COLLEEN', {'NaN': 19, 'ratio': 0.5588235294117647}),\n",
       " ('CUMBERLAND MICHAEL S', {'NaN': 19, 'ratio': 0.5588235294117647}),\n",
       " ('OVERDYKE JR JERE C', {'NaN': 19, 'ratio': 0.5588235294117647}),\n",
       " ('UMANOFF ADAM S', {'NaN': 19, 'ratio': 0.5588235294117647}),\n",
       " ('WHITE JR THOMAS E', {'NaN': 19, 'ratio': 0.5588235294117647}),\n",
       " ('PAI LOU L', {'NaN': 19, 'ratio': 0.5588235294117647}),\n",
       " ('MEYER ROCKFORD G', {'NaN': 18, 'ratio': 0.5294117647058824}),\n",
       " ('GIBBS DANA R', {'NaN': 18, 'ratio': 0.5294117647058824}),\n",
       " ('HORTON STANLEY C', {'NaN': 18, 'ratio': 0.5294117647058824}),\n",
       " ('BHATNAGAR SANJAY', {'NaN': 18, 'ratio': 0.5294117647058824}),\n",
       " ('ELLIOTT STEVEN', {'NaN': 17, 'ratio': 0.5}),\n",
       " ('ECHOLS JOHN B', {'NaN': 17, 'ratio': 0.5}),\n",
       " ('BUTTS ROBERT H', {'NaN': 17, 'ratio': 0.5}),\n",
       " ('DIMICHELE RICHARD G', {'NaN': 17, 'ratio': 0.5}),\n",
       " ('FASTOW ANDREW S', {'NaN': 17, 'ratio': 0.5}),\n",
       " ('DODSON KEITH', {'NaN': 17, 'ratio': 0.5}),\n",
       " ('HUMPHREY GENE E', {'NaN': 16, 'ratio': 0.47058823529411764}),\n",
       " ('REDMOND BRIAN L', {'NaN': 16, 'ratio': 0.47058823529411764}),\n",
       " ('LINDHOLM TOD A', {'NaN': 15, 'ratio': 0.4411764705882353}),\n",
       " ('GAHN ROBERT S', {'NaN': 15, 'ratio': 0.4411764705882353}),\n",
       " ('HERMANN ROBERT J', {'NaN': 15, 'ratio': 0.4411764705882353}),\n",
       " ('BAY FRANKLIN R', {'NaN': 15, 'ratio': 0.4411764705882353}),\n",
       " ('METTS MARK', {'NaN': 14, 'ratio': 0.4117647058823529}),\n",
       " ('SUNDE MARTIN', {'NaN': 14, 'ratio': 0.4117647058823529}),\n",
       " ('BECK SALLY W', {'NaN': 14, 'ratio': 0.4117647058823529}),\n",
       " ('LEFF DANIEL P', {'NaN': 14, 'ratio': 0.4117647058823529}),\n",
       " ('PICKERING MARK R', {'NaN': 14, 'ratio': 0.4117647058823529}),\n",
       " ('TAYLOR MITCHELL S', {'NaN': 14, 'ratio': 0.4117647058823529}),\n",
       " ('BAXTER JOHN C', {'NaN': 13, 'ratio': 0.38235294117647056}),\n",
       " ('CARTER REBECCA C', {'NaN': 13, 'ratio': 0.38235294117647056}),\n",
       " ('JACKSON CHARLENE R', {'NaN': 12, 'ratio': 0.35294117647058826}),\n",
       " ('KITCHEN LOUISE', {'NaN': 12, 'ratio': 0.35294117647058826}),\n",
       " ('HICKERSON GARY J', {'NaN': 12, 'ratio': 0.35294117647058826}),\n",
       " ('SHAPIRO RICHARD S', {'NaN': 12, 'ratio': 0.35294117647058826}),\n",
       " ('SHERRIFF JOHN R', {'NaN': 12, 'ratio': 0.35294117647058826}),\n",
       " ('IZZO LAWRENCE L', {'NaN': 12, 'ratio': 0.35294117647058826}),\n",
       " ('MARTIN AMANDA K', {'NaN': 12, 'ratio': 0.35294117647058826}),\n",
       " ('DETMERING TIMOTHY J', {'NaN': 11, 'ratio': 0.3235294117647059}),\n",
       " ('REYNOLDS LAWRENCE', {'NaN': 11, 'ratio': 0.3235294117647059}),\n",
       " ('MCMAHON JEFFREY', {'NaN': 10, 'ratio': 0.29411764705882354}),\n",
       " ('BLACHMAN JEREMY M', {'NaN': 10, 'ratio': 0.29411764705882354}),\n",
       " ('COLWELL WESLEY', {'NaN': 10, 'ratio': 0.29411764705882354}),\n",
       " ('WALLS JR ROBERT H', {'NaN': 10, 'ratio': 0.29411764705882354}),\n",
       " ('SHANKMAN JEFFREY A', {'NaN': 10, 'ratio': 0.29411764705882354}),\n",
       " ('BERGSIEKER RICHARD P', {'NaN': 10, 'ratio': 0.29411764705882354}),\n",
       " ('BIBI PHILIPPE A', {'NaN': 10, 'ratio': 0.29411764705882354}),\n",
       " ('LAVORATO JOHN J', {'NaN': 10, 'ratio': 0.29411764705882354}),\n",
       " ('BANNANTINE JAMES M', {'NaN': 10, 'ratio': 0.29411764705882354}),\n",
       " ('SHELBY REX', {'NaN': 10, 'ratio': 0.29411764705882354}),\n",
       " ('DEFFNER JOSEPH M', {'NaN': 10, 'ratio': 0.29411764705882354}),\n",
       " ('WHALLEY LAWRENCE G', {'NaN': 10, 'ratio': 0.29411764705882354}),\n",
       " ('MCCONNELL MICHAEL S', {'NaN': 10, 'ratio': 0.29411764705882354}),\n",
       " ('DELAINEY DAVID W', {'NaN': 10, 'ratio': 0.29411764705882354}),\n",
       " ('FALLON JAMES B', {'NaN': 10, 'ratio': 0.29411764705882354}),\n",
       " ('BOWEN JR RAYMOND M', {'NaN': 10, 'ratio': 0.29411764705882354}),\n",
       " ('FITZGERALD JAY L', {'NaN': 10, 'ratio': 0.29411764705882354}),\n",
       " ('DURAN WILLIAM D', {'NaN': 10, 'ratio': 0.29411764705882354}),\n",
       " ('THORN TERENCE H', {'NaN': 10, 'ratio': 0.29411764705882354}),\n",
       " ('CALGER CHRISTOPHER F', {'NaN': 10, 'ratio': 0.29411764705882354}),\n",
       " ('KAMINSKI WINCENTY J', {'NaN': 10, 'ratio': 0.29411764705882354}),\n",
       " ('COX DAVID', {'NaN': 10, 'ratio': 0.29411764705882354}),\n",
       " ('SKILLING JEFFREY K', {'NaN': 10, 'ratio': 0.29411764705882354}),\n",
       " ('KEAN STEVEN J', {'NaN': 10, 'ratio': 0.29411764705882354}),\n",
       " ('MCCLELLAN GEORGE', {'NaN': 10, 'ratio': 0.29411764705882354}),\n",
       " ('BUCHANAN HAROLD G', {'NaN': 10, 'ratio': 0.29411764705882354}),\n",
       " ('MURRAY JULIA H', {'NaN': 10, 'ratio': 0.29411764705882354}),\n",
       " ('GARLAND C KEVIN', {'NaN': 10, 'ratio': 0.29411764705882354}),\n",
       " ('DIETRICH JANET R', {'NaN': 10, 'ratio': 0.29411764705882354}),\n",
       " ('KOENIG MARK E', {'NaN': 10, 'ratio': 0.29411764705882354}),\n",
       " ('TILNEY ELIZABETH A', {'NaN': 10, 'ratio': 0.29411764705882354}),\n",
       " ('CAUSEY RICHARD A', {'NaN': 10, 'ratio': 0.29411764705882354}),\n",
       " ('DONAHUE JR JEFFREY M', {'NaN': 10, 'ratio': 0.29411764705882354}),\n",
       " ('GLISAN JR BEN F', {'NaN': 10, 'ratio': 0.29411764705882354}),\n",
       " ('HANNON KEVIN P', {'NaN': 8, 'ratio': 0.23529411764705882}),\n",
       " ('MULLER MARK S', {'NaN': 8, 'ratio': 0.23529411764705882}),\n",
       " ('RIEKER PAULA H', {'NaN': 8, 'ratio': 0.23529411764705882}),\n",
       " ('OLSON CINDY K', {'NaN': 8, 'ratio': 0.23529411764705882}),\n",
       " ('BELDEN TIMOTHY N', {'NaN': 8, 'ratio': 0.23529411764705882}),\n",
       " ('RICE KENNETH D', {'NaN': 8, 'ratio': 0.23529411764705882}),\n",
       " ('WASAFF GEORGE', {'NaN': 8, 'ratio': 0.23529411764705882}),\n",
       " ('SHARP VICTORIA T', {'NaN': 8, 'ratio': 0.23529411764705882}),\n",
       " ('BUY RICHARD B', {'NaN': 8, 'ratio': 0.23529411764705882}),\n",
       " ('PIPER GREGORY F', {'NaN': 6, 'ratio': 0.17647058823529413}),\n",
       " ('DERRICK JR. JAMES V', {'NaN': 6, 'ratio': 0.17647058823529413}),\n",
       " ('HAEDICKE MARK E', {'NaN': 4, 'ratio': 0.11764705882352941}),\n",
       " ('LAY KENNETH L', {'NaN': 4, 'ratio': 0.11764705882352941}),\n",
       " ('ALLEN PHILLIP K', {'NaN': 4, 'ratio': 0.11764705882352941}),\n",
       " ('FREVERT MARK A', {'NaN': 4, 'ratio': 0.11764705882352941})]"
      ]
     },
     "execution_count": 10,
     "metadata": {},
     "output_type": "execute_result"
    }
   ],
   "source": [
    "# For both persons and features, create a list sorted by most features missing\n",
    "print total_features\n",
    "sorted_person_list = [(k, person_list[k]) for k in sorted(person_list, key=person_list.__getitem__, reverse=True)]\n",
    "sorted_person_list"
   ]
  },
  {
   "cell_type": "code",
   "execution_count": 11,
   "metadata": {
    "collapsed": false
   },
   "outputs": [],
   "source": [
    "# Because he has no data\n",
    "del data_dict['LOCKHART EUGENE E']"
   ]
  },
  {
   "cell_type": "code",
   "execution_count": 12,
   "metadata": {
    "collapsed": false
   },
   "outputs": [
    {
     "name": "stdout",
     "output_type": "stream",
     "text": [
      "143\n"
     ]
    },
    {
     "data": {
      "text/plain": [
       "[('loan_advances_fraction', {'NaN': 141, 'ratio': 0.9791666666666666}),\n",
       " ('loan_advances', {'NaN': 141, 'ratio': 0.9791666666666666}),\n",
       " ('director_fees_fraction', {'NaN': 130, 'ratio': 0.9027777777777778}),\n",
       " ('restricted_stock_deferred_fraction',\n",
       "  {'NaN': 130, 'ratio': 0.9027777777777778}),\n",
       " ('director_fees', {'NaN': 128, 'ratio': 0.8888888888888888}),\n",
       " ('restricted_stock_deferred', {'NaN': 127, 'ratio': 0.8819444444444444}),\n",
       " ('deferral_payments', {'NaN': 106, 'ratio': 0.7361111111111112}),\n",
       " ('deferral_payments_fraction', {'NaN': 106, 'ratio': 0.7361111111111112}),\n",
       " ('deferred_income_fraction', {'NaN': 98, 'ratio': 0.6805555555555556}),\n",
       " ('deferred_income', {'NaN': 96, 'ratio': 0.6666666666666666}),\n",
       " ('long_term_incentive', {'NaN': 79, 'ratio': 0.5486111111111112}),\n",
       " ('long_term_incentive_fraction', {'NaN': 79, 'ratio': 0.5486111111111112}),\n",
       " ('bonus_fraction', {'NaN': 63, 'ratio': 0.4375}),\n",
       " ('bonus', {'NaN': 63, 'ratio': 0.4375}),\n",
       " ('to_messages', {'NaN': 58, 'ratio': 0.4027777777777778}),\n",
       " ('to_poi_fraction', {'NaN': 58, 'ratio': 0.4027777777777778}),\n",
       " ('from_poi_to_this_person', {'NaN': 58, 'ratio': 0.4027777777777778}),\n",
       " ('shared_receipt_with_poi', {'NaN': 58, 'ratio': 0.4027777777777778}),\n",
       " ('from_messages', {'NaN': 58, 'ratio': 0.4027777777777778}),\n",
       " ('from_poi_fraction', {'NaN': 58, 'ratio': 0.4027777777777778}),\n",
       " ('from_this_person_to_poi', {'NaN': 58, 'ratio': 0.4027777777777778}),\n",
       " ('other_fraction', {'NaN': 53, 'ratio': 0.3680555555555556}),\n",
       " ('other', {'NaN': 53, 'ratio': 0.3680555555555556}),\n",
       " ('expenses', {'NaN': 50, 'ratio': 0.3472222222222222}),\n",
       " ('salary_fraction', {'NaN': 50, 'ratio': 0.3472222222222222}),\n",
       " ('salary', {'NaN': 50, 'ratio': 0.3472222222222222}),\n",
       " ('expenses_fraction', {'NaN': 50, 'ratio': 0.3472222222222222}),\n",
       " ('exercised_stock_options_fraction',\n",
       "  {'NaN': 44, 'ratio': 0.3055555555555556}),\n",
       " ('exercised_stock_options', {'NaN': 43, 'ratio': 0.2986111111111111}),\n",
       " ('restricted_stock_fraction', {'NaN': 38, 'ratio': 0.2638888888888889}),\n",
       " ('restricted_stock', {'NaN': 35, 'ratio': 0.24305555555555555}),\n",
       " ('total_payments', {'NaN': 21, 'ratio': 0.14583333333333334}),\n",
       " ('total_stock_value', {'NaN': 19, 'ratio': 0.13194444444444445}),\n",
       " ('poi', {'NaN': 0, 'ratio': 0.0})]"
      ]
     },
     "execution_count": 12,
     "metadata": {},
     "output_type": "execute_result"
    }
   ],
   "source": [
    "print len(data_dict)\n",
    "sorted_feature_list = [(k, feature_list[k]) for k in sorted(feature_list, key=feature_list.__getitem__, reverse=True)]\n",
    "sorted_feature_list"
   ]
  },
  {
   "cell_type": "markdown",
   "metadata": {},
   "source": [
    "Based on this, I think I can safely remove 'loan advances', 'director_fees', 'restricted_stock_deferred', and their associated fraction features from features_list for having no data for more than 80% of total entries. This is a first attempt at feature selection, based on simple EDA."
   ]
  },
  {
   "cell_type": "code",
   "execution_count": 13,
   "metadata": {
    "collapsed": true
   },
   "outputs": [],
   "source": [
    "# First elimination:\n",
    "# Removed 'loan advances', 'director_fees', 'restricted_stock_deferred',\n",
    "# and their associated fraction features for having no data for more than 80%\n",
    "# of total entries\n",
    "features_list = ['poi',\n",
    "    'salary',\n",
    "    'bonus',\n",
    "    'long_term_incentive',\n",
    "    'deferred_income',\n",
    "    'deferral_payments',\n",
    "    'other',\n",
    "    'expenses',\n",
    "    'total_payments',\n",
    "\n",
    "    'exercised_stock_options',\n",
    "    'restricted_stock',\n",
    "    'total_stock_value',\n",
    "\n",
    "    'from_this_person_to_poi',\n",
    "    'to_messages',\n",
    "    'from_poi_to_this_person',\n",
    "    'from_messages',\n",
    "    'shared_receipt_with_poi',]\n",
    "\n",
    "fractional_features_list = [\n",
    "    # Email related fractional features\n",
    "    'to_poi_fraction',\n",
    "    'from_poi_fraction',\n",
    "\n",
    "    # Payment related fractional features\n",
    "    'salary_fraction',\n",
    "    'bonus_fraction',\n",
    "    'long_term_incentive_fraction',\n",
    "    'deferred_income_fraction',\n",
    "    'deferral_payments_fraction',\n",
    "    'other_fraction',\n",
    "    'expenses_fraction',\n",
    "\n",
    "    # Stock related fractional features\n",
    "    'exercised_stock_options_fraction',\n",
    "    'restricted_stock_fraction']"
   ]
  },
  {
   "cell_type": "code",
   "execution_count": 14,
   "metadata": {
    "collapsed": false
   },
   "outputs": [],
   "source": [
    "# Evaluate features list by POI characteristics\n",
    "poi_feature_list = {feature:{'poi':0, 'n_poi':0, 'other': 0, 'sum':0} for feature in features_list}\n",
    "\n",
    "for person in data_dict:\n",
    "    if data_dict[person]['poi']:\n",
    "        for feature in poi_feature_list:\n",
    "            if data_dict[person][feature] != \"NaN\":\n",
    "                poi_feature_list[feature]['poi'] += 1\n",
    "            else:\n",
    "                poi_feature_list[feature]['other'] += 1\n",
    "    else:\n",
    "        for feature in poi_feature_list:\n",
    "            if data_dict[person][feature] != \"NaN\":\n",
    "                poi_feature_list[feature]['n_poi'] += 1\n",
    "            else:\n",
    "                poi_feature_list[feature]['other'] += 1\n",
    "\n",
    "for f in poi_feature_list:\n",
    "    for sub_f in poi_feature_list[f]:\n",
    "        if sub_f != 'sum':\n",
    "            poi_feature_list[f]['sum'] += poi_feature_list[f][sub_f]\n",
    "\n",
    "# Calculate the percentages of each\n",
    "non_poi_total =  len(data_dict) - 18.0\n",
    "poi_total = 18.0\n",
    "\n",
    "# Make new dictionary for percentages\n",
    "perc_poi_feature_list = {feature:{'poi':0, 'n_poi':0, 'other':0} for feature in features_list}\n",
    "\n",
    "for f in perc_poi_feature_list:\n",
    "    perc_poi_feature_list[f]['poi'] = round(poi_feature_list[f]['poi'] / poi_total, 3)\n",
    "    perc_poi_feature_list[f]['n_poi'] = round(poi_feature_list[f]['n_poi'] / non_poi_total, 3)\n",
    "    perc_poi_feature_list[f]['other'] = round(poi_feature_list[f]['other'] / non_poi_total, 3)"
   ]
  },
  {
   "cell_type": "code",
   "execution_count": 15,
   "metadata": {
    "collapsed": false
   },
   "outputs": [
    {
     "data": {
      "text/plain": [
       "{'bonus': {'n_poi': 65, 'other': 62, 'poi': 16, 'sum': 143},\n",
       " 'deferral_payments': {'n_poi': 33, 'other': 105, 'poi': 5, 'sum': 143},\n",
       " 'deferred_income': {'n_poi': 37, 'other': 95, 'poi': 11, 'sum': 143},\n",
       " 'exercised_stock_options': {'n_poi': 89, 'other': 42, 'poi': 12, 'sum': 143},\n",
       " 'expenses': {'n_poi': 76, 'other': 49, 'poi': 18, 'sum': 143},\n",
       " 'from_messages': {'n_poi': 72, 'other': 57, 'poi': 14, 'sum': 143},\n",
       " 'from_poi_to_this_person': {'n_poi': 72, 'other': 57, 'poi': 14, 'sum': 143},\n",
       " 'from_this_person_to_poi': {'n_poi': 72, 'other': 57, 'poi': 14, 'sum': 143},\n",
       " 'long_term_incentive': {'n_poi': 53, 'other': 78, 'poi': 12, 'sum': 143},\n",
       " 'other': {'n_poi': 73, 'other': 52, 'poi': 18, 'sum': 143},\n",
       " 'poi': {'n_poi': 125, 'other': 0, 'poi': 18, 'sum': 143},\n",
       " 'restricted_stock': {'n_poi': 92, 'other': 34, 'poi': 17, 'sum': 143},\n",
       " 'salary': {'n_poi': 77, 'other': 49, 'poi': 17, 'sum': 143},\n",
       " 'shared_receipt_with_poi': {'n_poi': 72, 'other': 57, 'poi': 14, 'sum': 143},\n",
       " 'to_messages': {'n_poi': 72, 'other': 57, 'poi': 14, 'sum': 143},\n",
       " 'total_payments': {'n_poi': 105, 'other': 20, 'poi': 18, 'sum': 143},\n",
       " 'total_stock_value': {'n_poi': 107, 'other': 18, 'poi': 18, 'sum': 143}}"
      ]
     },
     "execution_count": 15,
     "metadata": {},
     "output_type": "execute_result"
    }
   ],
   "source": [
    "poi_feature_list"
   ]
  },
  {
   "cell_type": "code",
   "execution_count": 16,
   "metadata": {
    "collapsed": false
   },
   "outputs": [
    {
     "data": {
      "text/plain": [
       "{'bonus': {'n_poi': 0.52, 'other': 0.496, 'poi': 0.889},\n",
       " 'deferral_payments': {'n_poi': 0.264, 'other': 0.84, 'poi': 0.278},\n",
       " 'deferred_income': {'n_poi': 0.296, 'other': 0.76, 'poi': 0.611},\n",
       " 'exercised_stock_options': {'n_poi': 0.712, 'other': 0.336, 'poi': 0.667},\n",
       " 'expenses': {'n_poi': 0.608, 'other': 0.392, 'poi': 1.0},\n",
       " 'from_messages': {'n_poi': 0.576, 'other': 0.456, 'poi': 0.778},\n",
       " 'from_poi_to_this_person': {'n_poi': 0.576, 'other': 0.456, 'poi': 0.778},\n",
       " 'from_this_person_to_poi': {'n_poi': 0.576, 'other': 0.456, 'poi': 0.778},\n",
       " 'long_term_incentive': {'n_poi': 0.424, 'other': 0.624, 'poi': 0.667},\n",
       " 'other': {'n_poi': 0.584, 'other': 0.416, 'poi': 1.0},\n",
       " 'poi': {'n_poi': 1.0, 'other': 0.0, 'poi': 1.0},\n",
       " 'restricted_stock': {'n_poi': 0.736, 'other': 0.272, 'poi': 0.944},\n",
       " 'salary': {'n_poi': 0.616, 'other': 0.392, 'poi': 0.944},\n",
       " 'shared_receipt_with_poi': {'n_poi': 0.576, 'other': 0.456, 'poi': 0.778},\n",
       " 'to_messages': {'n_poi': 0.576, 'other': 0.456, 'poi': 0.778},\n",
       " 'total_payments': {'n_poi': 0.84, 'other': 0.16, 'poi': 1.0},\n",
       " 'total_stock_value': {'n_poi': 0.856, 'other': 0.144, 'poi': 1.0}}"
      ]
     },
     "execution_count": 16,
     "metadata": {},
     "output_type": "execute_result"
    }
   ],
   "source": [
    "perc_poi_feature_list"
   ]
  },
  {
   "cell_type": "markdown",
   "metadata": {},
   "source": [
    "Interestingly enough, the only features that have values for all POIs are expenses, other, poi (for obvious reasons), total_payments, and total_stock_value. I think a small exception can be made for restricted_stock and salary, since only 1 POI is missing these features respectively."
   ]
  },
  {
   "cell_type": "code",
   "execution_count": 17,
   "metadata": {
    "collapsed": false
   },
   "outputs": [],
   "source": [
    "### Store to my_dataset for easy export below.\n",
    "my_dataset = data_dict"
   ]
  },
  {
   "cell_type": "code",
   "execution_count": 18,
   "metadata": {
    "collapsed": false
   },
   "outputs": [
    {
     "data": {
      "text/plain": [
       "143"
      ]
     },
     "execution_count": 18,
     "metadata": {},
     "output_type": "execute_result"
    }
   ],
   "source": [
    "len(my_dataset)"
   ]
  },
  {
   "cell_type": "code",
   "execution_count": 19,
   "metadata": {
    "collapsed": true
   },
   "outputs": [],
   "source": [
    "### Extract features and labels from dataset for local testing\n",
    "data = featureFormat(my_dataset, features_list, sort_keys = True)\n",
    "labels, features = targetFeatureSplit(data)"
   ]
  },
  {
   "cell_type": "code",
   "execution_count": 20,
   "metadata": {
    "collapsed": false
   },
   "outputs": [
    {
     "data": {
      "image/png": "[encoded data removed]",
      "text/plain": [
       "<matplotlib.figure.Figure at 0xa7edef0>"
      ]
     },
     "metadata": {},
     "output_type": "display_data"
    }
   ],
   "source": [
    "# This is a test of visualization\n",
    "\n",
    "for point in data:\n",
    "    poi = point[0]\n",
    "    salary = point[1]\n",
    "    bonus = point[2]\n",
    "    if poi >= .9:\n",
    "        plt.scatter( salary, bonus, c=\"r\" )\n",
    "    else:\n",
    "        plt.scatter( salary, bonus)\n",
    "\n",
    "plt.xlabel(\"salary\")\n",
    "plt.ylabel(\"bonus\")\n",
    "plt.show()"
   ]
  },
  {
   "cell_type": "code",
   "execution_count": 21,
   "metadata": {
    "collapsed": true
   },
   "outputs": [],
   "source": [
    "# Moving on, I'm going to experiment with feature selection\n",
    "# First building the the simplified training and test split\n",
    "from sklearn.cross_validation import train_test_split\n",
    "features_train, features_test, labels_train, labels_test = train_test_split(features, labels, test_size=0.2, random_state=42)"
   ]
  },
  {
   "cell_type": "code",
   "execution_count": 22,
   "metadata": {
    "collapsed": false
   },
   "outputs": [
    {
     "name": "stdout",
     "output_type": "stream",
     "text": [
      "[ 18.6742056   29.63748334  11.16548585  10.14635349   0.094709\n",
      "   3.74758069   4.84683601   8.58074937  15.5840072    9.20180973\n",
      "  15.71769956   4.29884361   2.61734982   5.27320436   0.07113568\n",
      "  10.55982643]\n",
      "[  3.37252508e-05   3.11086032e-07   1.13312542e-03   1.87320664e-03\n",
      "   7.58845442e-01   5.54044175e-02   2.97473759e-02   4.11734282e-03\n",
      "   1.38191160e-04   3.00541158e-03   1.29886329e-04   4.04319743e-02\n",
      "   1.08513800e-01   2.35161714e-02   7.90180796e-01   1.52626408e-03]\n"
     ]
    }
   ],
   "source": [
    "# Next, I'm going to set up a simple NaiveBayes classifier and perform feature selection\n",
    "# using SelectKBest over a range of values to determine the best classifiers\n",
    "from sklearn.feature_selection import SelectKBest, f_classif\n",
    "from sklearn.naive_bayes import GaussianNB\n",
    "from sklearn.pipeline import make_pipeline, Pipeline\n",
    "\n",
    "# Create ANOVA filter\n",
    "anova_filter = SelectKBest(f_classif, k=5)\n",
    "\n",
    "# Naive Bayes classifier\n",
    "clf = GaussianNB()\n",
    "\n",
    "anova_nb = make_pipeline(anova_filter, clf)\n",
    "anova_filter.fit(features_train, labels_train)\n",
    "\n",
    "print anova_filter.scores_\n",
    "print anova_filter.pvalues_"
   ]
  },
  {
   "cell_type": "code",
   "execution_count": 23,
   "metadata": {
    "collapsed": false
   },
   "outputs": [
    {
     "data": {
      "text/plain": [
       "[('salary', 29.637483342825991, 3.1108603200930706e-07),\n",
       " ('poi', 18.674205599965617, 3.3725250835901779e-05),\n",
       " ('restricted_stock', 15.717699564931332, 0.0001298863285464782),\n",
       " ('total_payments', 15.584007198962444, 0.00013819116044938053),\n",
       " ('bonus', 11.165485853767775, 0.0011331254165007831),\n",
       " ('from_messages', 10.559826426637898, 0.001526264078135481),\n",
       " ('long_term_incentive', 10.146353491703897, 0.0018732066423035063),\n",
       " ('exercised_stock_options', 9.2018097295558974, 0.0030054115762484044),\n",
       " ('expenses', 8.5807493683478953, 0.0041173428171727674),\n",
       " ('to_messages', 5.2732043586790045, 0.023516171356882967),\n",
       " ('other', 4.8468360056263613, 0.029747375898322773),\n",
       " ('total_stock_value', 4.2988436103134529, 0.040431974275502193),\n",
       " ('deferral_payments', 3.7475806934062388, 0.055404417508767831),\n",
       " ('from_this_person_to_poi', 2.6173498152262775, 0.10851380016382584),\n",
       " ('deferred_income', 0.094709003418012097, 0.75884544224391326),\n",
       " ('from_poi_to_this_person', 0.071135677630847091, 0.79018079647658435)]"
      ]
     },
     "execution_count": 23,
     "metadata": {},
     "output_type": "execute_result"
    }
   ],
   "source": [
    "# Try to determine which features are being scored\n",
    "feature_scores = zip(features_list, anova_filter.scores_, anova_filter.pvalues_)\n",
    "sorted(feature_scores, key=lambda score: score[1], reverse=True)"
   ]
  },
  {
   "cell_type": "markdown",
   "metadata": {},
   "source": [
    "It worked!! Now I'm going to repeat the process, but with the full list of features, including fractional ones, to find out the f_classif scores for each."
   ]
  },
  {
   "cell_type": "code",
   "execution_count": 24,
   "metadata": {
    "collapsed": true
   },
   "outputs": [],
   "source": [
    "#Create full features list\n",
    "full_features_list = ['poi',\n",
    "    'salary',\n",
    "    'bonus',\n",
    "    'long_term_incentive',\n",
    "    'deferred_income',\n",
    "    'deferral_payments',\n",
    "    'loan_advances',\n",
    "    'other',\n",
    "    'expenses',\n",
    "    'director_fees',\n",
    "    'total_payments',\n",
    "\n",
    "    'exercised_stock_options',\n",
    "    'restricted_stock',\n",
    "    'restricted_stock_deferred',\n",
    "    'total_stock_value',\n",
    "\n",
    "    'from_this_person_to_poi',\n",
    "    'to_messages',\n",
    "    'from_poi_to_this_person',\n",
    "    'from_messages',\n",
    "    'shared_receipt_with_poi',\n",
    "\n",
    "    # Email related fractional features\n",
    "    'to_poi_fraction',\n",
    "    'from_poi_fraction',\n",
    "\n",
    "    # Payment related fractional features\n",
    "    'salary_fraction',\n",
    "    'bonus_fraction',\n",
    "    'long_term_incentive_fraction',\n",
    "    'deferred_income_fraction',\n",
    "    'deferral_payments_fraction',\n",
    "    'loan_advances_fraction',\n",
    "    'other_fraction',\n",
    "    'expenses_fraction',\n",
    "    'director_fees_fraction',\n",
    "\n",
    "    # Stock related fractional features\n",
    "    'exercised_stock_options_fraction',\n",
    "    'restricted_stock_fraction',\n",
    "    'restricted_stock_deferred_fraction']"
   ]
  },
  {
   "cell_type": "code",
   "execution_count": 25,
   "metadata": {
    "collapsed": true
   },
   "outputs": [],
   "source": [
    "# Extract features and labels from dataset for local testing on full features list\n",
    "data = featureFormat(my_dataset, full_features_list, sort_keys = True)\n",
    "labels_full, features_full = targetFeatureSplit(data)"
   ]
  },
  {
   "cell_type": "code",
   "execution_count": 26,
   "metadata": {
    "collapsed": false
   },
   "outputs": [
    {
     "data": {
      "text/plain": [
       "[('total_payments', 24.815079733218194, 1.8182048777865317e-06),\n",
       " ('restricted_stock_deferred', 24.182898678566879, 2.4043152760436886e-06),\n",
       " ('salary', 20.792252047181535, 1.10129873239521e-05),\n",
       " ('salary_fraction', 20.715596247559954, 1.1403848516905529e-05),\n",
       " ('poi', 18.289684043404513, 3.4782737683651706e-05),\n",
       " ('shared_receipt_with_poi', 16.409712548035792, 8.3889533567042162e-05),\n",
       " ('bonus_fraction', 13.850868417167648, 0.00028512514965536027),\n",
       " ('long_term_incentive', 11.458476579280369, 0.00092203670846723062),\n",
       " ('bonus', 9.9221860131898225, 0.0019941812453537077),\n",
       " ('exercised_stock_options', 9.2128106219771002, 0.002862802957909168),\n",
       " ('director_fees', 8.7727777300916756, 0.0035893261725153044),\n",
       " ('from_messages', 8.589420731682381, 0.0039458026165322567),\n",
       " ('deferral_payments', 7.1840556582887247, 0.0082318509068451656),\n",
       " ('other', 6.0941733106389453, 0.014758199965371975),\n",
       " ('deferral_payments_fraction', 5.3463405918745792, 0.02221386974369996),\n",
       " ('to_messages', 5.2434497133749582, 0.023513867086669717),\n",
       " ('loan_advances', 4.1874775069953749, 0.042581747012345836),\n",
       " ('to_poi_fraction', 3.1280917481567192, 0.079116105663795441),\n",
       " ('from_poi_fraction', 2.687417590844055, 0.10337293194951264),\n",
       " ('total_stock_value', 2.3826121082276739, 0.12493365956927895),\n",
       " ('expenses', 2.1263278020077054, 0.14701111317392224),\n",
       " ('from_this_person_to_poi', 1.6463411294420076, 0.20156265029435688),\n",
       " ('deferred_income_fraction', 1.3604336117316531, 0.24543136205493971),\n",
       " ('exercised_stock_options_fraction', 1.0901571696328429, 0.29822315230244967),\n",
       " ('loan_advances_fraction', 1.0684733217820632, 0.30306019680461482),\n",
       " ('restricted_stock_fraction', 0.76477268331683201, 0.383326169421491),\n",
       " ('deferred_income', 0.22461127473600989, 0.63628164745867344),\n",
       " ('expenses_fraction', 0.20806402247992767, 0.6489908434639271),\n",
       " ('from_poi_to_this_person', 0.16970094762175533, 0.68100330042070167),\n",
       " ('long_term_incentive_fraction', 0.15002858163937585, 0.69909208283267188),\n",
       " ('restricted_stock', 0.065499652909942141, 0.79837865656298534),\n",
       " ('director_fees_fraction', 0.04211676849806735, 0.8376933284866297),\n",
       " ('other_fraction', 0.017509612462176017, 0.89491675396671311)]"
      ]
     },
     "execution_count": 26,
     "metadata": {},
     "output_type": "execute_result"
    }
   ],
   "source": [
    "# Create new anova filter then find the feature scores\n",
    "anova_filter_full = SelectKBest(f_classif, k=5)\n",
    "\n",
    "anova_filter_full.fit(features_full, labels_full)\n",
    "\n",
    "# Try to determine which features are being scored\n",
    "feature_scores = zip(full_features_list, anova_filter_full.scores_, anova_filter_full.pvalues_)\n",
    "sorted(feature_scores, key=lambda score: score[1], reverse=True)"
   ]
  },
  {
   "cell_type": "markdown",
   "metadata": {},
   "source": [
    "These results don't make much sense to me, since some features that had very little data, such as restricted_stock_deferred and director_fees, scored very well, and some features that scored well without the fractional values added, such as restricted_stock, scored terribly. Most of the fractional features scored terribly low, so I think I am going to move forward by only using the normal features_list, with the addition of bonus_fraction. I think the scaled values make it a better predictor overall. I'm going to swap bonus and bonus_fraction, so that I don't have two closely correlated values in the feature selection list."
   ]
  },
  {
   "cell_type": "code",
   "execution_count": 27,
   "metadata": {
    "collapsed": false
   },
   "outputs": [
    {
     "data": {
      "text/plain": [
       "[('total_payments', 24.815079733218194, 1.8182048777865317e-06),\n",
       " ('restricted_stock', 24.182898678566879, 2.4043152760436886e-06),\n",
       " ('salary', 20.715596247559954, 1.1403848516905529e-05),\n",
       " ('poi', 18.289684043404513, 3.4782737683651706e-05),\n",
       " ('long_term_incentive', 11.458476579280369, 0.00092203670846723062),\n",
       " ('bonus_fraction', 9.9221860131898225, 0.0019941812453537077),\n",
       " ('exercised_stock_options', 9.2128106219771002, 0.002862802957909168),\n",
       " ('expenses', 8.7727777300916756, 0.0035893261725153044),\n",
       " ('from_messages', 8.589420731682381, 0.0039458026165322567),\n",
       " ('other', 6.0941733106389453, 0.014758199965371975),\n",
       " ('to_messages', 5.2434497133749582, 0.023513867086669717),\n",
       " ('deferral_payments', 4.1874775069953749, 0.042581747012345836),\n",
       " ('total_stock_value', 2.3826121082276739, 0.12493365956927895),\n",
       " ('from_this_person_to_poi', 1.6463411294420076, 0.20156265029435688),\n",
       " ('deferred_income', 0.22461127473600989, 0.63628164745867344),\n",
       " ('from_poi_to_this_person', 0.16970094762175533, 0.68100330042070167)]"
      ]
     },
     "execution_count": 27,
     "metadata": {},
     "output_type": "execute_result"
    }
   ],
   "source": [
    "# Entire process repeated again\n",
    "final_features_list = ['poi',\n",
    "    'salary',\n",
    "    'bonus_fraction', #subbed for bonus\n",
    "    'long_term_incentive',\n",
    "    'deferred_income',\n",
    "    'deferral_payments',\n",
    "    'other',\n",
    "    'expenses',\n",
    "    'total_payments',\n",
    "\n",
    "    'exercised_stock_options',\n",
    "    'restricted_stock',\n",
    "    'total_stock_value',\n",
    "\n",
    "    'from_this_person_to_poi',\n",
    "    'to_messages',\n",
    "    'from_poi_to_this_person',\n",
    "    'from_messages',\n",
    "    'shared_receipt_with_poi']\n",
    "\n",
    "# Extract features and labels from dataset for local testing on full features list\n",
    "data = featureFormat(my_dataset, final_features_list, sort_keys = True)\n",
    "labels_final, features_final = targetFeatureSplit(data)\n",
    "\n",
    "# Create new anova filter then find the feature scores\n",
    "anova_filter_final = SelectKBest(f_classif, k=5)\n",
    "\n",
    "anova_filter_final.fit(features_final, labels_final)\n",
    "\n",
    "# Try to determine which features are being scored\n",
    "feature_scores = zip(final_features_list, anova_filter_final.scores_, anova_filter_final.pvalues_)\n",
    "sorted(feature_scores, key=lambda score: score[1], reverse=True)\n"
   ]
  },
  {
   "cell_type": "markdown",
   "metadata": {},
   "source": [
    "This list makes the most sense to me right now. I am now going to use a Naive Bayes classifier in a GridSearchCV pipeline to determine the optimal SelectKBest features for this data_set"
   ]
  },
  {
   "cell_type": "code",
   "execution_count": 28,
   "metadata": {
    "collapsed": false
   },
   "outputs": [
    {
     "data": {
      "text/plain": [
       "[('selectkbest',\n",
       "  SelectKBest(k=10, score_func=<function f_classif at 0x000000000BDE80B8>)),\n",
       " ('gaussiannb', GaussianNB())]"
      ]
     },
     "execution_count": 28,
     "metadata": {},
     "output_type": "execute_result"
    }
   ],
   "source": [
    "# set up the pipes and pipeline\n",
    "# Anova filter\n",
    "anova_filter = SelectKBest(f_classif)\n",
    "parameters = {'selectkbest__k':[2,4,5,6,8,10]}\n",
    "\n",
    "# Naive Bayes classifier\n",
    "gauss_nb = GaussianNB()\n",
    "\n",
    "# Pipeline\n",
    "anova_nb = make_pipeline(anova_filter, gauss_nb)\n",
    "\n",
    "anova_nb.steps"
   ]
  },
  {
   "cell_type": "code",
   "execution_count": 29,
   "metadata": {
    "collapsed": false
   },
   "outputs": [],
   "source": [
    "# import Grid Search\n",
    "from sklearn.grid_search import GridSearchCV\n",
    "\n",
    "#GridSearchCV\n",
    "clf = GridSearchCV(anova_nb, parameters)"
   ]
  },
  {
   "cell_type": "code",
   "execution_count": 30,
   "metadata": {
    "collapsed": true
   },
   "outputs": [],
   "source": [
    "# Create training and testing data\n",
    "features_train, features_test, labels_train, labels_test = train_test_split(features_final, labels_final, test_size=0.2, random_state=42)"
   ]
  },
  {
   "cell_type": "code",
   "execution_count": 31,
   "metadata": {
    "collapsed": false
   },
   "outputs": [
    {
     "data": {
      "text/plain": [
       "[mean: 0.84211, std: 0.01811, params: {'selectkbest__k': 2},\n",
       " mean: 0.81579, std: 0.02408, params: {'selectkbest__k': 4},\n",
       " mean: 0.81579, std: 0.02408, params: {'selectkbest__k': 5},\n",
       " mean: 0.80702, std: 0.00892, params: {'selectkbest__k': 6},\n",
       " mean: 0.80702, std: 0.01632, params: {'selectkbest__k': 8},\n",
       " mean: 0.81579, std: 0.00396, params: {'selectkbest__k': 10}]"
      ]
     },
     "execution_count": 31,
     "metadata": {},
     "output_type": "execute_result"
    }
   ],
   "source": [
    "clf.fit(features_train, labels_train)\n",
    "clf.grid_scores_"
   ]
  },
  {
   "cell_type": "markdown",
   "metadata": {},
   "source": [
    "OK, so 2 features has the best score, 4 and 5 are similar, and 10 has the lowest standard deviation. So, in lieu of trimming down the feature list, I think I am just going to keep the SelectKBest feature selection for the pipeline moving forward, with values of 2, 4, 5, and 10. Keeping this step will help to programmatically find the best features for each of the learning algorithms going forward."
   ]
  },
  {
   "cell_type": "code",
   "execution_count": 32,
   "metadata": {
    "collapsed": false
   },
   "outputs": [],
   "source": [
    "# Creating of mulitple simple algorithms for quick analysis of best performance\n",
    "# Using Naive Bayes, Decision Trees, SVM, Random Forest, and AdaBoost\n",
    "# Imports\n",
    "from sklearn.tree import DecisionTreeClassifier\n",
    "from sklearn import svm\n",
    "from sklearn.ensemble import RandomForestClassifier\n",
    "from sklearn.ensemble import AdaBoostClassifier\n",
    "from sklearn.metrics import classification_report, precision_score, recall_score, f1_score\n",
    "\n",
    "\n",
    "# Naive Bayes classifier\n",
    "gaussNB_clf = GaussianNB()\n",
    "\n",
    "# Decision Tree classifier\n",
    "tree_clf = DecisionTreeClassifier(min_samples_split=10)\n",
    "\n",
    "# Support Vector Machines\n",
    "lnr_svm_clf = svm.SVC(kernel=\"linear\", C=100.)\n",
    "rbf_svm_clf = svm.SVC(kernel=\"rbf\", C=100.)\n",
    "\n",
    "# Random Forest\n",
    "ranfor_clf = RandomForestClassifier()\n",
    "\n",
    "# Adaboost\n",
    "adab_clf = AdaBoostClassifier()"
   ]
  },
  {
   "cell_type": "code",
   "execution_count": 33,
   "metadata": {
    "collapsed": false
   },
   "outputs": [
    {
     "name": "stdout",
     "output_type": "stream",
     "text": [
      "             precision    recall  f1-score   support\n",
      "\n",
      "        0.0       0.96      0.93      0.94        27\n",
      "        1.0       0.33      0.50      0.40         2\n",
      "\n",
      "avg / total       0.92      0.90      0.91        29\n",
      "\n"
     ]
    }
   ],
   "source": [
    "# Create pipeline then run test of resulting algos\n",
    "anova_filter = SelectKBest(f_classif, k=10)\n",
    "algo_list = [gaussNB_clf, tree_clf, lnr_svm_clf, rbf_svm_clf, ranfor_clf, adab_clf]\n",
    "\n",
    "# Create pipe function and run fit on algorithms with 10 SelectKBest\n",
    "def pipe_and_report(algo):\n",
    "    pipe = make_pipeline(anova_filter, algo)\n",
    "    pipe.fit(features_train, labels_train)\n",
    "    pred = pipe.predict(features_test)\n",
    "    clf_report = classification_report(labels_test, pred)\n",
    "    print clf_report\n",
    "\n",
    "pipe_and_report(gaussNB_clf)"
   ]
  },
  {
   "cell_type": "code",
   "execution_count": 34,
   "metadata": {
    "collapsed": false
   },
   "outputs": [
    {
     "name": "stdout",
     "output_type": "stream",
     "text": [
      "             precision    recall  f1-score   support\n",
      "\n",
      "        0.0       0.92      0.85      0.88        27\n",
      "        1.0       0.00      0.00      0.00         2\n",
      "\n",
      "avg / total       0.86      0.79      0.82        29\n",
      "\n"
     ]
    }
   ],
   "source": [
    "pipe_and_report(tree_clf)"
   ]
  },
  {
   "cell_type": "code",
   "execution_count": 35,
   "metadata": {
    "collapsed": true
   },
   "outputs": [],
   "source": [
    "# I tried these, but my computer basically died, so I may come back some other time\n",
    "\n",
    "#pipe_and_report(lnr_svm_clf)\n",
    "#pipe_and_report(rbf_svm_clf)"
   ]
  },
  {
   "cell_type": "code",
   "execution_count": 36,
   "metadata": {
    "collapsed": false
   },
   "outputs": [
    {
     "name": "stdout",
     "output_type": "stream",
     "text": [
      "             precision    recall  f1-score   support\n",
      "\n",
      "        0.0       0.93      0.96      0.95        27\n",
      "        1.0       0.00      0.00      0.00         2\n",
      "\n",
      "avg / total       0.86      0.90      0.88        29\n",
      "\n"
     ]
    }
   ],
   "source": [
    "pipe_and_report(ranfor_clf)"
   ]
  },
  {
   "cell_type": "code",
   "execution_count": 37,
   "metadata": {
    "collapsed": false
   },
   "outputs": [
    {
     "name": "stdout",
     "output_type": "stream",
     "text": [
      "             precision    recall  f1-score   support\n",
      "\n",
      "        0.0       0.92      0.89      0.91        27\n",
      "        1.0       0.00      0.00      0.00         2\n",
      "\n",
      "avg / total       0.86      0.83      0.84        29\n",
      "\n"
     ]
    }
   ],
   "source": [
    "pipe_and_report(adab_clf)"
   ]
  },
  {
   "cell_type": "markdown",
   "metadata": {},
   "source": [
    "Based on the results here, I'm going to use Random Forest. As much as I'd like to use Naive Bayes, the project does ask to tune parameters, and based on the results so far, Random Forest has the best performance without tuning."
   ]
  },
  {
   "cell_type": "code",
   "execution_count": 38,
   "metadata": {
    "collapsed": false
   },
   "outputs": [
    {
     "data": {
      "text/plain": [
       "[('selectkbest',\n",
       "  SelectKBest(k=10, score_func=<function f_classif at 0x000000000BDE80B8>)),\n",
       " ('randomforestclassifier',\n",
       "  RandomForestClassifier(bootstrap=True, class_weight=None, criterion='gini',\n",
       "              max_depth=None, max_features='auto', max_leaf_nodes=None,\n",
       "              min_samples_leaf=1, min_samples_split=2,\n",
       "              min_weight_fraction_leaf=0.0, n_estimators=10, n_jobs=1,\n",
       "              oob_score=False, random_state=None, verbose=0,\n",
       "              warm_start=False))]"
      ]
     },
     "execution_count": 38,
     "metadata": {},
     "output_type": "execute_result"
    }
   ],
   "source": [
    "# Setup random forest pipe\n",
    "anova_filter = SelectKBest(f_classif)\n",
    "pipe = make_pipeline(anova_filter, ranfor_clf)\n",
    "pipe.steps"
   ]
  },
  {
   "cell_type": "code",
   "execution_count": 39,
   "metadata": {
    "collapsed": false
   },
   "outputs": [
    {
     "name": "stdout",
     "output_type": "stream",
     "text": [
      "Best Estimator\n",
      "{'randomforestclassifier__n_estimators': 2, 'selectkbest__k': 6, 'randomforestclassifier__criterion': 'gini', 'randomforestclassifier__max_features': 'auto'}\n",
      "\n",
      "Top Three Options:\n",
      "[mean: 0.88596, std: 0.01021, params: {'randomforestclassifier__n_estimators': 2, 'selectkbest__k': 6, 'randomforestclassifier__criterion': 'gini', 'randomforestclassifier__max_features': 'auto'}, mean: 0.87719, std: 0.01277, params: {'randomforestclassifier__n_estimators': 2, 'selectkbest__k': 6, 'randomforestclassifier__criterion': 'entropy', 'randomforestclassifier__max_features': 'auto'}, mean: 0.87719, std: 0.01036, params: {'randomforestclassifier__n_estimators': 2, 'selectkbest__k': 12, 'randomforestclassifier__criterion': 'entropy', 'randomforestclassifier__max_features': None}]\n",
      "\n",
      "             precision    recall  f1-score   support\n",
      "\n",
      "        0.0       0.96      0.93      0.94        27\n",
      "        1.0       0.33      0.50      0.40         2\n",
      "\n",
      "avg / total       0.92      0.90      0.91        29\n",
      "\n"
     ]
    }
   ],
   "source": [
    "# Make a scorer\n",
    "from sklearn.metrics import make_scorer, accuracy_score\n",
    "\n",
    "# Accuracy\n",
    "scorer = make_scorer(accuracy_score)\n",
    "\n",
    "# Setup parameters for GridSearchCV tuning\n",
    "params = {'selectkbest__k':[2, 4, 5, 6, 8, 10, 12],\n",
    "         'randomforestclassifier__n_estimators':[2, 4, 5, 8, 10, 15, 20, 25, 50, 100],\n",
    "         'randomforestclassifier__max_features':[\"auto\", None],\n",
    "         'randomforestclassifier__criterion':['gini', 'entropy']}\n",
    "\n",
    "gridsearch = GridSearchCV(pipe, params, scoring=scorer)\n",
    "\n",
    "# run gridsearch on basic testing data\n",
    "gridsearch.fit(features_train, labels_train)\n",
    "\n",
    "# And our best estimator\n",
    "print \"Best Estimator\"\n",
    "print gridsearch.best_params_\n",
    "print\n",
    "\n",
    "print \"Top Three Options:\"\n",
    "print sorted(gridsearch.grid_scores_, key=lambda score: score[1], reverse=True)[:3]\n",
    "print\n",
    "\n",
    "#Classification Report\n",
    "pred = gridsearch.predict(features_test)\n",
    "clf_report = classification_report(labels_test, pred)\n",
    "print clf_report"
   ]
  },
  {
   "cell_type": "markdown",
   "metadata": {},
   "source": [
    "### Top Accuracy Estimator Tester.py output\n",
    "\n",
    "Pipeline(steps=[('selectkbest', SelectKBest(k=6, score_func=<function f_classif at 0x00000000057033C8>)), ('randomforestclassifier', RandomForestClassifier(bootstrap=True, class_weight=None, criterion='gini',\n",
    "            max_depth=None, max_features='auto', max_leaf_nodes=None,\n",
    "            min_samples_leaf=1, min_samples_split=2,\n",
    "            min_weight_fraction_leaf=0.0, n_estimators=2, n_jobs=1,\n",
    "            oob_score=False, random_state=None, verbose=0,\n",
    "            warm_start=False))])\n",
    "            \n",
    "Accuracy: 0.85053\n",
    "\n",
    "Precision: 0.31722\n",
    "\n",
    "Recall: 0.10500\n",
    "\n",
    "F1: 0.15778\n",
    "F2: 0.12122\n",
    "Total predictions: 15000\tTrue positives:  210\tFalse positives:  452\tFalse negatives: 1790\tTrue negatives: 12548"
   ]
  },
  {
   "cell_type": "code",
   "execution_count": 41,
   "metadata": {
    "collapsed": false
   },
   "outputs": [
    {
     "name": "stdout",
     "output_type": "stream",
     "text": [
      "Best Estimator\n",
      "{'randomforestclassifier__n_estimators': 4, 'selectkbest__k': 12, 'randomforestclassifier__criterion': 'gini', 'randomforestclassifier__max_features': 'auto'}\n",
      "\n",
      "Top Three Options:\n",
      "[mean: 0.82895, std: 0.23570, params: {'randomforestclassifier__n_estimators': 4, 'selectkbest__k': 12, 'randomforestclassifier__criterion': 'gini', 'randomforestclassifier__max_features': 'auto'}, mean: 0.78363, std: 0.31427, params: {'randomforestclassifier__n_estimators': 4, 'selectkbest__k': 5, 'randomforestclassifier__criterion': 'entropy', 'randomforestclassifier__max_features': None}, mean: 0.77193, std: 0.31427, params: {'randomforestclassifier__n_estimators': 10, 'selectkbest__k': 4, 'randomforestclassifier__criterion': 'gini', 'randomforestclassifier__max_features': 'auto'}]\n",
      "\n",
      "             precision    recall  f1-score   support\n",
      "\n",
      "        0.0       0.93      0.93      0.93        27\n",
      "        1.0       0.00      0.00      0.00         2\n",
      "\n",
      "avg / total       0.86      0.86      0.86        29\n",
      "\n"
     ]
    }
   ],
   "source": [
    "# Precision\n",
    "scorer = make_scorer(precision_score)\n",
    "gridsearch = GridSearchCV(pipe, params, scoring=scorer)\n",
    "\n",
    "# run gridsearch on basic testing data\n",
    "gridsearch.fit(features_train, labels_train)\n",
    "\n",
    "# And our best estimator\n",
    "print \"Best Estimator\"\n",
    "print gridsearch.best_params_\n",
    "print\n",
    "\n",
    "print \"Top Three Options:\"\n",
    "print sorted(gridsearch.grid_scores_, key=lambda score: score[1], reverse=True)[:3]\n",
    "print\n",
    "\n",
    "#Classification Report\n",
    "pred = gridsearch.predict(features_test)\n",
    "clf_report = classification_report(labels_test, pred)\n",
    "print clf_report"
   ]
  },
  {
   "cell_type": "markdown",
   "metadata": {},
   "source": [
    "### Top Precision Estimator Tester.py output\n",
    "\n",
    "Pipeline(steps=[('selectkbest', SelectKBest(k=12, score_func=<function f_classif at 0x00000000057173C8>)), ('randomforestclassifier', RandomForestClassifier(bootstrap=True, class_weight=None, criterion='gini',\n",
    "            max_depth=None, max_features='auto', max_leaf_nodes=None,\n",
    "            min_samples_leaf=1, min_samples_split=2,\n",
    "            min_weight_fraction_leaf=0.0, n_estimators=4, n_jobs=1,\n",
    "            oob_score=False, random_state=None, verbose=0,\n",
    "            warm_start=False))])\n",
    "            \n",
    "Accuracy: 0.85207\n",
    "\n",
    "Precision: 0.34290\n",
    "\n",
    "Recall: 0.11950\n",
    "\n",
    "F1: 0.17723\tF2: 0.13740\n",
    "Total predictions: 15000\tTrue positives:  239\tFalse positives:  458\tFalse negatives: 1761\tTrue negatives: 12542"
   ]
  },
  {
   "cell_type": "code",
   "execution_count": 42,
   "metadata": {
    "collapsed": false
   },
   "outputs": [
    {
     "name": "stdout",
     "output_type": "stream",
     "text": [
      "Best Estimator\n",
      "{'randomforestclassifier__n_estimators': 20, 'selectkbest__k': 6, 'randomforestclassifier__criterion': 'gini', 'randomforestclassifier__max_features': None}\n",
      "\n",
      "Top Three Options:\n",
      "[mean: 0.37544, std: 0.16630, params: {'randomforestclassifier__n_estimators': 20, 'selectkbest__k': 6, 'randomforestclassifier__criterion': 'gini', 'randomforestclassifier__max_features': None}, mean: 0.36579, std: 0.26247, params: {'randomforestclassifier__n_estimators': 15, 'selectkbest__k': 8, 'randomforestclassifier__criterion': 'entropy', 'randomforestclassifier__max_features': None}, mean: 0.31842, std: 0.19689, params: {'randomforestclassifier__n_estimators': 5, 'selectkbest__k': 6, 'randomforestclassifier__criterion': 'gini', 'randomforestclassifier__max_features': None}]\n",
      "\n",
      "             precision    recall  f1-score   support\n",
      "\n",
      "        0.0       0.96      0.93      0.94        27\n",
      "        1.0       0.33      0.50      0.40         2\n",
      "\n",
      "avg / total       0.92      0.90      0.91        29\n",
      "\n"
     ]
    }
   ],
   "source": [
    "# Recall\n",
    "scorer = make_scorer(recall_score)\n",
    "gridsearch = GridSearchCV(pipe, params, scoring=scorer)\n",
    "\n",
    "# run gridsearch on basic testing data\n",
    "gridsearch.fit(features_train, labels_train)\n",
    "\n",
    "# And our best estimator\n",
    "print \"Best Estimator\"\n",
    "print gridsearch.best_params_\n",
    "print\n",
    "\n",
    "print \"Top Three Options:\"\n",
    "print sorted(gridsearch.grid_scores_, key=lambda score: score[1], reverse=True)[:3]\n",
    "print\n",
    "\n",
    "#Classification Report\n",
    "pred = gridsearch.predict(features_test)\n",
    "clf_report = classification_report(labels_test, pred)\n",
    "print clf_report"
   ]
  },
  {
   "cell_type": "markdown",
   "metadata": {},
   "source": [
    "### Top Recall Estimator Tester.py output\n",
    "\n",
    "Pipeline(steps=[('selectkbest', SelectKBest(k=6, score_func=<function f_classif at 0x00000000057033C8>)), ('randomforestclassifier', RandomForestClassifier(bootstrap=True, class_weight=None, criterion='gini',\n",
    "            max_depth=None, max_features=None, max_leaf_nodes=None,\n",
    "            min_samples_leaf=1, min_samples_split=2,\n",
    "            min_weight_fraction_leaf=0.0, n_estimators=20, n_jobs=1,\n",
    "            oob_score=False, random_state=None, verbose=0,\n",
    "            warm_start=False))])\n",
    "            \n",
    "Accuracy: 0.85093\n",
    "\n",
    "Precision: 0.37605\n",
    "\n",
    "Recall: 0.17900\n",
    "\n",
    "F1: 0.24255\tF2: 0.19996\n",
    "Total predictions: 15000\tTrue positives:  358\tFalse positives:  594\tFalse negatives: 1642\tTrue negatives: 12406"
   ]
  },
  {
   "cell_type": "markdown",
   "metadata": {},
   "source": [
    "# Naive Bayes Tester.py output\n",
    "\n",
    "I got frustrated with tuning the Random Forest algorithm. Although I was able to achieve pretty decent results here with the basic test set, I couldn't get the recall and precision above 0.3 in the tester.py file. Annoyed, I tried just using Naive Bayes, and sure enough, the simplest algorithm got the minimums.'\n",
    "\n",
    "Pipeline(steps=[('selectkbest', SelectKBest(k=5, score_func=<function f_classif at 0x00000000057173C8>)), ('gaussiannb', GaussianNB())])\n",
    "\n",
    "Accuracy: 0.84693\n",
    "\n",
    "Precision: 0.40339\n",
    "\n",
    "Recall: 0.30900\n",
    "\n",
    "F1: 0.34994\tF2: 0.32417\n",
    "Total predictions: 15000\tTrue positives:  618\tFalse positives:  914\tFalse negatives: 1382\tTrue negatives: 12086"
   ]
  },
  {
   "cell_type": "markdown",
   "metadata": {},
   "source": [
    "In conclusion, I think this is a fascinating project, but my time is limited. I would like to come back to this eventually, and try to tinker with some other algorithms."
   ]
  }
 ],
 "metadata": {
  "anaconda-cloud": {},
  "kernelspec": {
   "display_name": "Python [conda env:dandy]",
   "language": "python",
   "name": "conda-env-dandy-py"
  },
  "language_info": {
   "codemirror_mode": {
    "name": "ipython",
    "version": 2
   },
   "file_extension": ".py",
   "mimetype": "text/x-python",
   "name": "python",
   "nbconvert_exporter": "python",
   "pygments_lexer": "ipython2",
   "version": "2.7.12"
  }
 },
 "nbformat": 4,
 "nbformat_minor": 2
}
